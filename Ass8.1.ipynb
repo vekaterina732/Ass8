{
 "cells": [
  {
   "cell_type": "code",
   "execution_count": 1,
   "id": "77a457f4-0a30-4857-8465-17f57c2f8cce",
   "metadata": {
    "tags": []
   },
   "outputs": [
    {
     "name": "stdin",
     "output_type": "stream",
     "text": [
      "a=  8\n",
      "b=  4\n"
     ]
    },
    {
     "name": "stdout",
     "output_type": "stream",
     "text": [
      "4     8\n"
     ]
    }
   ],
   "source": [
    "a = int (input('a= '))\n",
    "b = int (input('b= '))\n",
    "if a>b:\n",
    "    x=a \n",
    "    a=b\n",
    "    b=x \n",
    "    print (a, \"   \", b)"
   ]
  },
  {
   "cell_type": "code",
   "execution_count": 7,
   "id": "7e616f32-b0fc-4cca-86b8-fe0e397f8e3f",
   "metadata": {
    "tags": []
   },
   "outputs": [
    {
     "name": "stdin",
     "output_type": "stream",
     "text": [
      "a=  9\n",
      "b=  6\n",
      "c=  7\n"
     ]
    },
    {
     "name": "stdout",
     "output_type": "stream",
     "text": [
      "sorted values: 6 7 9\n"
     ]
    }
   ],
   "source": [
    "a = int (input('a= '))\n",
    "b = int (input('b= '))\n",
    "c = int (input('c= '))\n",
    "if a>b:\n",
    "    a,b = b,a\n",
    "if a>c:\n",
    "    a,c = c,a\n",
    "if b>c:\n",
    "    b,c = c,b\n",
    "    print (\"sorted values:\", a, b, c)"
   ]
  }
 ],
 "metadata": {
  "kernelspec": {
   "display_name": "Python 3 (ipykernel)",
   "language": "python",
   "name": "python3"
  },
  "language_info": {
   "codemirror_mode": {
    "name": "ipython",
    "version": 3
   },
   "file_extension": ".py",
   "mimetype": "text/x-python",
   "name": "python",
   "nbconvert_exporter": "python",
   "pygments_lexer": "ipython3",
   "version": "3.10.9"
  }
 },
 "nbformat": 4,
 "nbformat_minor": 5
}
