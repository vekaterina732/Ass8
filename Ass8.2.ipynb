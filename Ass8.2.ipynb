{
 "cells": [
  {
   "cell_type": "code",
   "execution_count": 1,
   "id": "f236492c-a1a6-43fc-a612-f2a0b0646f82",
   "metadata": {
    "tags": []
   },
   "outputs": [
    {
     "name": "stdout",
     "output_type": "stream",
     "text": [
      "Number of string elements in the list: 3\n"
     ]
    }
   ],
   "source": [
    "elements = [42, \"hello\", 3.14, \"world\", 100, \"Python\", True]\n",
    "string_count = 0\n",
    "for element in elements:\n",
    "    if type(element) == str:\n",
    "        string_count += 1\n",
    "print(f\"Number of string elements in the list: {string_count}\")"
   ]
  },
  {
   "cell_type": "code",
   "execution_count": null,
   "id": "0b60740f-5e03-4117-827f-2651375ff404",
   "metadata": {},
   "outputs": [],
   "source": []
  }
 ],
 "metadata": {
  "kernelspec": {
   "display_name": "Python 3 (ipykernel)",
   "language": "python",
   "name": "python3"
  },
  "language_info": {
   "codemirror_mode": {
    "name": "ipython",
    "version": 3
   },
   "file_extension": ".py",
   "mimetype": "text/x-python",
   "name": "python",
   "nbconvert_exporter": "python",
   "pygments_lexer": "ipython3",
   "version": "3.10.9"
  }
 },
 "nbformat": 4,
 "nbformat_minor": 5
}
